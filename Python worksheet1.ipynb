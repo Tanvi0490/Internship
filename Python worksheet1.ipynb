{
 "cells": [
  {
   "cell_type": "code",
   "execution_count": 1,
   "id": "58d5b821-3db1-4f2e-991d-0833bc911cba",
   "metadata": {},
   "outputs": [
    {
     "data": {
      "text/plain": [
       "0"
      ]
     },
     "execution_count": 1,
     "metadata": {},
     "output_type": "execute_result"
    }
   ],
   "source": [
    "2//3"
   ]
  },
  {
   "cell_type": "code",
   "execution_count": 3,
   "id": "2f247805-0e88-4b51-94bd-6ea5aab186ae",
   "metadata": {},
   "outputs": [
    {
     "data": {
      "text/plain": [
       "24"
      ]
     },
     "execution_count": 3,
     "metadata": {},
     "output_type": "execute_result"
    }
   ],
   "source": [
    "6<<2"
   ]
  },
  {
   "cell_type": "code",
   "execution_count": 5,
   "id": "4a73956f-fb13-499d-8458-fdf508617729",
   "metadata": {},
   "outputs": [
    {
     "data": {
      "text/plain": [
       "2"
      ]
     },
     "execution_count": 5,
     "metadata": {},
     "output_type": "execute_result"
    }
   ],
   "source": [
    "6 & 2"
   ]
  },
  {
   "cell_type": "code",
   "execution_count": 7,
   "id": "71d3e95f-39c0-4c6f-b3bc-7de72ca15f44",
   "metadata": {},
   "outputs": [
    {
     "data": {
      "text/plain": [
       "6"
      ]
     },
     "execution_count": 7,
     "metadata": {},
     "output_type": "execute_result"
    }
   ],
   "source": [
    "6 | 2"
   ]
  },
  {
   "cell_type": "code",
   "execution_count": 19,
   "id": "4d46276b-5454-412a-bf9e-b281a13c4bc2",
   "metadata": {},
   "outputs": [
    {
     "name": "stdin",
     "output_type": "stream",
     "text": [
      "ENter a number to find its factorical:  9\n"
     ]
    },
    {
     "name": "stdout",
     "output_type": "stream",
     "text": [
      "The factorical of 9 is: 362880\n"
     ]
    }
   ],
   "source": [
    "def factorical(n):\n",
    "    if n < 0: \n",
    "        return \"Factorical is not defined for negative numbers.\"\n",
    "    elif n == 0 or n == 1:\n",
    "        return 1\n",
    "    else:\n",
    "        result = 1\n",
    "        for i in range (2, n+1):\n",
    "            result *= i\n",
    "        return result\n",
    "\n",
    "#Taking input from the user\n",
    "\n",
    "num = int(input(\"ENter a number to find its factorical: \"))\n",
    "\n",
    "# Calculating factorical and print the result \n",
    "fact = factorical(num)\n",
    "print(f\"The factorical of {num} is: {fact}\")"
   ]
  },
  {
   "cell_type": "code",
   "execution_count": 21,
   "id": "ac95b6c3-98a4-42a8-aa07-1fdd13864d9b",
   "metadata": {},
   "outputs": [
    {
     "name": "stdin",
     "output_type": "stream",
     "text": [
      "Enter a number to check if it's prime or composite:  8\n"
     ]
    },
    {
     "name": "stdout",
     "output_type": "stream",
     "text": [
      "8 is a composite number.\n"
     ]
    }
   ],
   "source": [
    "def is_prime(num):\n",
    "    if num <= 1:\n",
    "        return False  # 1 and numbers less than 1 are not prime\n",
    "    \n",
    "    if num == 2:\n",
    "        return True   # 2 is the only even prime number\n",
    "    \n",
    "    if num % 2 == 0:\n",
    "        return False  # Other even numbers greater than 2 are not prime\n",
    "    \n",
    "    # Check for factors from 3 to sqrt(num), iterating by 2 (only odds)\n",
    "    for i in range(3, int(num**0.5) + 1, 2):\n",
    "        if num % i == 0:\n",
    "            return False  # If num is divisible by any number in this range, it's composite\n",
    "    \n",
    "    return True  # If no factors found, num is prime\n",
    "\n",
    "# Taking input from the user\n",
    "num = int(input(\"Enter a number to check if it's prime or composite: \"))\n",
    "\n",
    "# Check if the number is prime or composite and printing the result\n",
    "if is_prime(num):\n",
    "    print(f\"{num} is a prime number.\")\n",
    "else:\n",
    "    print(f\"{num} is a composite number.\")"
   ]
  },
  {
   "cell_type": "code",
   "execution_count": 34,
   "id": "3d5dde41-6810-4daf-8a7b-d53ff49aa397",
   "metadata": {},
   "outputs": [
    {
     "name": "stdin",
     "output_type": "stream",
     "text": [
      "Enter a string to check if it's a palindrome:  a cat sit in the 2 table\n"
     ]
    },
    {
     "name": "stdout",
     "output_type": "stream",
     "text": [
      "a cat sit in the 2 table is not a palindrome.\n"
     ]
    }
   ],
   "source": [
    "def is_palindrome(s):\n",
    "    s = s.replace(\" \", \"\").lower()\n",
    "    return s == s[:: -1]\n",
    "string = input(\"Enter a string to check if it's a palindrome: \")\n",
    "\n",
    "if is_palindrome(string):\n",
    "    print(f\"{string} is a palindrome.\")\n",
    "else:\n",
    "    print(f\"{string} is not a palindrome.\")\n",
    "    "
   ]
  },
  {
   "cell_type": "code",
   "execution_count": 38,
   "id": "02dbe8eb-5878-4c8b-900c-2f0e3379234a",
   "metadata": {},
   "outputs": [
    {
     "name": "stdin",
     "output_type": "stream",
     "text": [
      "Enter the length of the first side of the right-angled trinagle:  5\n",
      "Enter the length of the first side of the right-angled trinagle:  8\n"
     ]
    },
    {
     "name": "stdout",
     "output_type": "stream",
     "text": [
      "The length of the hypotenuse (third side) is: 9.433981132056603\n"
     ]
    }
   ],
   "source": [
    "import math\n",
    "\n",
    "def calculate_hypotenuse(side1, side2):\n",
    "    hypotenuse =math.sqrt(side1**2 + side2**2)\n",
    "    return hypotenuse\n",
    "\n",
    "side1 = float(input(\"Enter the length of the first side of the right-angled trinagle: \"))\n",
    "side2 = float(input(\"Enter the length of the first side of the right-angled trinagle: \"))\n",
    "\n",
    "hypotenuse = calculate_hypotenuse(side1, side2)\n",
    "\n",
    "print(f\"The length of the hypotenuse (third side) is: {hypotenuse}\")"
   ]
  },
  {
   "cell_type": "code",
   "execution_count": 42,
   "id": "80601262-e963-4b15-8a5c-d38df96d865e",
   "metadata": {},
   "outputs": [
    {
     "name": "stdin",
     "output_type": "stream",
     "text": [
      "Enter a string to find the frequency of each character:  fhshc\n"
     ]
    },
    {
     "name": "stdout",
     "output_type": "stream",
     "text": [
      "Character frequencies in the string:\n",
      "Character 'c' occurs 1 time(s)\n",
      "Character 'f' occurs 1 time(s)\n",
      "Character 'h' occurs 2 time(s)\n",
      "Character 's' occurs 1 time(s)\n"
     ]
    }
   ],
   "source": [
    "def count_character_frequency(s):\n",
    "    freq = {}\n",
    "\n",
    "    for char in s:\n",
    "        if char in freq:\n",
    "            freq[char] += 1\n",
    "        else:\n",
    "            freq[char] = 1\n",
    "    return freq\n",
    "\n",
    "string = input(\"Enter a string to find the frequency of each character: \")\n",
    "\n",
    "frequency = count_character_frequency(string)\n",
    "\n",
    "print(\"Character frequencies in the string:\")\n",
    "for char in sorted(frequency):\n",
    "    print(f\"Character '{char}' occurs {frequency[char]} time(s)\")"
   ]
  },
  {
   "cell_type": "code",
   "execution_count": null,
   "id": "0057ddea-6265-4be9-ada0-cea14789d52a",
   "metadata": {},
   "outputs": [],
   "source": []
  }
 ],
 "metadata": {
  "kernelspec": {
   "display_name": "Python 3 (ipykernel)",
   "language": "python",
   "name": "python3"
  },
  "language_info": {
   "codemirror_mode": {
    "name": "ipython",
    "version": 3
   },
   "file_extension": ".py",
   "mimetype": "text/x-python",
   "name": "python",
   "nbconvert_exporter": "python",
   "pygments_lexer": "ipython3",
   "version": "3.11.7"
  }
 },
 "nbformat": 4,
 "nbformat_minor": 5
}
