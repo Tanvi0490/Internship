{
 "cells": [
  {
   "cell_type": "code",
   "execution_count": null,
   "id": "3cac8035-d653-4a23-a57a-2529c5f1131d",
   "metadata": {},
   "outputs": [],
   "source": [
    "import numpy as np\n",
    "import pandas as pd\n"
   ]
  },
  {
   "cell_type": "code",
   "execution_count": 5,
   "id": "baef2c49-5e5d-47f6-827e-48f6f145b11c",
   "metadata": {},
   "outputs": [],
   "source": [
    "import regex as re"
   ]
  },
  {
   "cell_type": "code",
   "execution_count": 15,
   "id": "8bfe86b3-bd0e-4a5e-8ce8-71e329f98080",
   "metadata": {},
   "outputs": [
    {
     "name": "stdout",
     "output_type": "stream",
     "text": [
      "Python:Exercises::PHP:exercises:\n"
     ]
    }
   ],
   "source": [
    "text = 'Python Exercises, PHP exercises.'\n",
    "print(re.sub(\"[ ,.]\", \":\", text))"
   ]
  },
  {
   "cell_type": "code",
   "execution_count": 17,
   "id": "d54a1931-1750-47b4-8d30-57d405d6f077",
   "metadata": {},
   "outputs": [
    {
     "name": "stdout",
     "output_type": "stream",
     "text": [
      "                  Summary        SUMMARY\n",
      "0             hello word!     hello word\n",
      "1              XXXXX text     XXXXX text\n",
      "2  123four, five:; six...  four five six\n"
     ]
    }
   ],
   "source": [
    "data = {'Summary' : ['hello word!', 'XXXXX text', '123four, five:; six...']}\n",
    "df= pd.DataFrame(data)\n",
    "df['SUMMARY'] = df['Summary'].str.replace('[^a-zA-Z\\s]', '', regex=True)\n",
    "print(df)"
   ]
  },
  {
   "cell_type": "code",
   "execution_count": 23,
   "id": "23ea4d5d-8876-4247-93b0-4d5d7e942a86",
   "metadata": {},
   "outputs": [],
   "source": [
    "import regex as re"
   ]
  },
  {
   "cell_type": "code",
   "execution_count": 25,
   "id": "1325c4bb-43d7-40e9-9f53-49dfa81913b4",
   "metadata": {},
   "outputs": [
    {
     "name": "stdout",
     "output_type": "stream",
     "text": [
      "['Lilly', 'noticed', 'that', 'pretty', 'doll', 'dressed', 'very', 'elegantly']\n"
     ]
    }
   ],
   "source": [
    "text = 'Lilly noticed that the pretty doll was dressed very elegantly.'\n",
    "print(re.findall(r\"\\b\\w{4,}\\b\", text))"
   ]
  },
  {
   "cell_type": "code",
   "execution_count": 192,
   "id": "1705fc59-7bdc-4be1-a464-ef746dd8d453",
   "metadata": {},
   "outputs": [
    {
     "name": "stdout",
     "output_type": "stream",
     "text": [
      "['This', 'with', 'words', 'off']\n"
     ]
    }
   ],
   "source": [
    "#Create a function in python to find all three, four, and five character words in a string. The use of the re.compile() method is mandatory.\n",
    "\n",
    "import re\n",
    "\n",
    "def find_words(string):\n",
    "  pattern = re.compile(r'\\b\\w{3,5}\\b')\n",
    "  matches = pattern.findall(string)\n",
    "  return matches\n",
    "\n",
    "string = \"This is a sample string with words off different lengths.\"\n",
    "result = find_words(string)\n",
    "print(result)"
   ]
  },
  {
   "cell_type": "code",
   "execution_count": 194,
   "id": "e11df738-0193-415c-a3a6-475f7cb255e9",
   "metadata": {},
   "outputs": [
    {
     "name": "stdout",
     "output_type": "stream",
     "text": [
      "['This', 'with']\n"
     ]
    }
   ],
   "source": [
    "#Create a function in python to find all words that are at least 4 characters long in a string. The use of the re.compile() method is mandatory.\n",
    "import re\n",
    "\n",
    "def find_words(string):\n",
    "  pattern = re.compile(r'\\b\\w{4}\\b')\n",
    "  matches = pattern.findall(string)\n",
    "  return matches\n",
    "\n",
    "string = \"This is a sample string with words off different lengths.\"\n",
    "result = find_words(string)\n",
    "print(result)\n"
   ]
  },
  {
   "cell_type": "code",
   "execution_count": 41,
   "id": "6ed1bcb4-ad35-4fdf-aa2a-3de23d8a82ac",
   "metadata": {},
   "outputs": [
    {
     "name": "stdout",
     "output_type": "stream",
     "text": [
      "example\n",
      "hr@fliprobo\n",
      "github\n",
      "Hello\n",
      "Data\n"
     ]
    }
   ],
   "source": [
    "#Write a python program to remove the parenthesis area from the text stored in the text file using Regular Expression.\n",
    "#Sample Text: [\"example (.com)\", \"hr@fliprobo (.com)\", \"github (.com)\", \"Hello (Data Science World)\", \"Data (Scientist)\"]\n",
    "#Expected Output: [\"example\", \"hr@fliprobo\", \"github\", \"Hello\", \"Data\"]\n",
    "#Note- Store given sample text in the text file and then to remove the parenthesis area from the text.\n",
    "\n",
    "\n",
    "import re \n",
    "texts = [\"example(.com)\", \"hr@fliprobo (.com)\", \"github (.com)\", \"Hello (Data Science World)\", \"Data (Scientist)\"]\n",
    "for text in texts:\n",
    "    print(re.sub(r\" ?\\([^)]+\\)\", \"\", text))"
   ]
  },
  {
   "cell_type": "code",
   "execution_count": null,
   "id": "0d30ea91-6c49-4c07-9587-32b7771ec681",
   "metadata": {},
   "outputs": [],
   "source": []
  },
  {
   "cell_type": "code",
   "execution_count": 45,
   "id": "dbd2e4b5-49b0-440b-803f-0ee917b89fcd",
   "metadata": {},
   "outputs": [
    {
     "name": "stdout",
     "output_type": "stream",
     "text": [
      "['Importance', 'Of', 'Regular', 'Expressions', 'In', 'Python']\n"
     ]
    }
   ],
   "source": [
    "#Write a regular expression in Python to split a string into uppercase letters.\n",
    "#Sample text: “ImportanceOfRegularExpressionsInPython”\n",
    "#Expected Output: [‘Importance’, ‘Of’, ‘Regular’, ‘Expression’, ‘In’, ‘Python’]\n",
    "\n",
    "import re\n",
    "text = 'ImportanceOfRegularExpressionsInPython'\n",
    "result = re.findall('[A-Z][^A-Z]*', text)\n",
    "\n",
    "print(result)"
   ]
  },
  {
   "cell_type": "code",
   "execution_count": 67,
   "id": "dc7cc046-a116-4871-94ea-b5e6147e902c",
   "metadata": {},
   "outputs": [
    {
     "name": "stdout",
     "output_type": "stream",
     "text": [
      "Regular Expression1 Is An2 Important Topic3 In Python\n"
     ]
    }
   ],
   "source": [
    "#Create a function in python to insert spaces between words starting with numbers.\n",
    "#Sample Text: “RegularExpression1IsAn2ImportantTopic3InPython\"\n",
    "#Expected Output: RegularExpression 1IsAn 2ImportantTopic 3InPython\n",
    "\n",
    "import re\n",
    "def capital_words_spaces(str1):\n",
    "    return re.sub(r\"(\\w)([A-Z])\", r\"\\1 \\2\", str1)\n",
    "\n",
    "print(capital_words_spaces('RegularExpression1IsAn2ImportantTopic3InPython'))"
   ]
  },
  {
   "cell_type": "code",
   "execution_count": 85,
   "id": "719db617-a430-459b-a30c-29b94ca262bc",
   "metadata": {},
   "outputs": [
    {
     "name": "stdout",
     "output_type": "stream",
     "text": [
      " RegularExpression1IsAn2ImportantTopic3InPython\n"
     ]
    }
   ],
   "source": [
    "#Create a function in python to insert spaces between words starting with capital letters or with numbers.\n",
    "#Sample Text: “RegularExpression1IsAn2ImportantTopic3InPython\"\n",
    "#Expected Output:  RegularExpression 1 IsAn 2 ImportantTopic 3 InPython\n",
    "\n",
    "import re\n",
    "def insert_spaces(text):\n",
    "    return re.sub(r'\\b(?=[A-Z 0-9])', ' ', text)\n",
    "\n",
    "text = \"RegularExpression1IsAn2ImportantTopic3InPython\"\n",
    "result = insert_spaces(text)\n",
    "print(result)  "
   ]
  },
  {
   "cell_type": "code",
   "execution_count": 199,
   "id": "1296d957-5987-488a-b122-ab9f13f8b10f",
   "metadata": {},
   "outputs": [],
   "source": [
    "import re\n",
    "\n",
    "def insert_spaces(text):\n",
    "  # Use regular expression to find words starting with capital letters or numbers\n",
    "  pattern = r'([A-Z][a-z0-9]+|\\d+)'\n",
    "  # Replace the matched words with a space followed by the word\n",
    "  result = re.sub(pattern, r' \\1', text)\n",
    "  # Remove any leading or trailing spaces\n",
    "  result = result.strip()\n",
    "  return result\n"
   ]
  },
  {
   "cell_type": "code",
   "execution_count": 201,
   "id": "c1ae316d-d65f-4f8a-beb7-30ecc68d7541",
   "metadata": {},
   "outputs": [],
   "source": [
    "import pandas as pd\n",
    "import numpy as np\n",
    "import regex as re\n",
    "\n",
    "url = \"https://raw.githubusercontent.com/dsrscientist/DSData/master/happiness_score_dataset.csv\"\n",
    "df = pd.read_csv(url)\n"
   ]
  },
  {
   "cell_type": "code",
   "execution_count": 203,
   "id": "2c5b720b-6231-4328-a280-b8a648064f6c",
   "metadata": {},
   "outputs": [],
   "source": [
    "df['first_five_letters'] = df['Country'].apply(lambda x: x[:6])"
   ]
  },
  {
   "cell_type": "code",
   "execution_count": 105,
   "id": "20910760-fb5a-4bfa-862d-6c1bd054c2fa",
   "metadata": {},
   "outputs": [
    {
     "name": "stdout",
     "output_type": "stream",
     "text": [
      "Not matched!\n",
      "Found a match!\n"
     ]
    }
   ],
   "source": [
    "#Write a Python program to match a string that contains only upper and lowercase letters, numbers, and underscores.\n",
    "import re\n",
    "def text_match(text):\n",
    "    patterns = '^[a-zA-Z0-9_]*$'\n",
    "    if re.search(patterns, text):\n",
    "        return 'Found a match!'\n",
    "    else:\n",
    "        return('Not matched!')\n",
    "\n",
    "print(text_match(\"Lilly noticed that the pretty doll was dressed very elegantly.\"))\n",
    "print(text_match(\"Python_Exercises_1\"))"
   ]
  },
  {
   "cell_type": "code",
   "execution_count": 117,
   "id": "1103ce2b-60a0-4e28-bfe8-4dbf1b9df32c",
   "metadata": {},
   "outputs": [
    {
     "name": "stdout",
     "output_type": "stream",
     "text": [
      "True\n",
      "False\n"
     ]
    }
   ],
   "source": [
    "#Write a Python program where a string will start with a specific number. \n",
    "\n",
    "import re\n",
    "def match_num(string):\n",
    "    text = re.compile(r\"^5\")\n",
    "    if text.match(string):\n",
    "        return True\n",
    "    else:\n",
    "        return False\n",
    "\n",
    "print(match_num('5-25689445'))\n",
    "print(match_num('7-23456789'))"
   ]
  },
  {
   "cell_type": "code",
   "execution_count": 119,
   "id": "20a9134d-a105-425f-a0e6-e80af8469db1",
   "metadata": {},
   "outputs": [
    {
     "name": "stdout",
     "output_type": "stream",
     "text": [
      "216.9.84.186\n"
     ]
    }
   ],
   "source": [
    "#Write a Python program to remove leading zeros from an IP address\n",
    "\n",
    "import re\n",
    "ip = \"216.09.084.186\"\n",
    "string = re.sub('\\.[0]*', '.', ip)\n",
    "print(string)"
   ]
  },
  {
   "cell_type": "code",
   "execution_count": 136,
   "id": "97f8c536-72f3-4ddb-a1b1-d2f1a83ea3e5",
   "metadata": {},
   "outputs": [
    {
     "name": "stdout",
     "output_type": "stream",
     "text": [
      "['August']\n"
     ]
    }
   ],
   "source": [
    "#Write a regular expression in python to match a date string in the form of Month name followed by day number and year stored in a text file.\n",
    "\n",
    "import re\n",
    "\n",
    "text = \"On August 15th 1947 that India was declared independent from British colonialism, and the reins of control were handed over to the leaders of the Country.\"\n",
    "\n",
    "pattern = r\"\\b([A-Z][a-z]+) \\d{1,2}(?:st|nd|rd|th)? \\d{4}\\b\"\n",
    "\n",
    "matches = re.findall(pattern, text)\n",
    "print(matches)"
   ]
  },
  {
   "cell_type": "code",
   "execution_count": 140,
   "id": "4e4fed5c-e224-4e40-89af-ee791b7c6637",
   "metadata": {},
   "outputs": [
    {
     "name": "stdout",
     "output_type": "stream",
     "text": [
      "it's a match\n"
     ]
    }
   ],
   "source": [
    "#Write a Python program to search some literals strings in a string. \n",
    "#Sample text : 'The quick brown fox jumps over the lazy dog.'\n",
    "#Searched words : 'fox', 'dog', 'horse'\n",
    "\n",
    "import re\n",
    "my_string = 'The quick brown fox jumps over the lazy dog.'\n",
    "m = re.search('dog|fox|horse', my_string)\n",
    "if m:\n",
    "    print('it\\'s a match')\n",
    "else:\n",
    "    print('no match found')"
   ]
  },
  {
   "cell_type": "code",
   "execution_count": 142,
   "id": "fbbc7b8d-0252-40bb-8a11-6543fa7b1adf",
   "metadata": {},
   "outputs": [
    {
     "name": "stdout",
     "output_type": "stream",
     "text": [
      "Found \"fox\" in \"The quick brown fox jumps over the lazy dog.\" from 16 to 19 \n"
     ]
    }
   ],
   "source": [
    "#Write a Python program to search a literals string in a string and also find the location within the original string where the pattern occurs\n",
    "#Sample text : 'The quick brown fox jumps over the lazy dog.'\n",
    "#Searched words : 'fox'\n",
    "\n",
    "import re\n",
    "\n",
    "pattern = 'fox'\n",
    "text = 'The quick brown fox jumps over the lazy dog.'\n",
    "match = re.search(pattern, text)\n",
    "s = match.start()\n",
    "e = match.end()\n",
    "print('Found \"%s\" in \"%s\" from %d to %d ' % (match.re.pattern, match.string, s, e))"
   ]
  },
  {
   "cell_type": "code",
   "execution_count": 205,
   "id": "d1922700-3fa6-41fb-9c7f-aa02ea8a4dae",
   "metadata": {},
   "outputs": [
    {
     "name": "stdout",
     "output_type": "stream",
     "text": [
      "Found \"exercises\"\n",
      "Found \"exercises\"\n",
      "Found \"exercises\"\n"
     ]
    }
   ],
   "source": [
    "#Write a Python program to find the substrings within a string.\n",
    "#Sample text : 'Python exercises, PHP exercises, C# exercises'\n",
    "#Pattern : 'exercises'.\n",
    "\n",
    "import re\n",
    "text = 'Python exercises, PHP exercises, C# exercises'\n",
    "pattern = 'exercises'\n",
    "for match in re.findall(pattern, text):\n",
    "    print('Found \"%s\"' % match)"
   ]
  },
  {
   "cell_type": "code",
   "execution_count": 146,
   "id": "3a569923-ea0a-425e-b7d9-6557b088a8b7",
   "metadata": {},
   "outputs": [
    {
     "name": "stdout",
     "output_type": "stream",
     "text": [
      "Found \"exercises\" at 7:16\n",
      "Found \"exercises\" at 22:31\n",
      "Found \"exercises\" at 36:45\n"
     ]
    }
   ],
   "source": [
    "text = 'Python exercises, PHP exercises, C# exercises'\n",
    "pattern = 'exercises'\n",
    "for match in re.finditer(pattern, text):\n",
    "    s = match.start()\n",
    "    e = match.end()\n",
    "    print('Found \"%s\" at %d:%d' % (text[s:e], s, e))"
   ]
  },
  {
   "cell_type": "code",
   "execution_count": 148,
   "id": "c2d904d9-aa31-46b8-91c9-769fc29f069f",
   "metadata": {},
   "outputs": [
    {
     "name": "stdout",
     "output_type": "stream",
     "text": [
      "Original date in YYY-MM-DD Format:  2026-01-02\n",
      "New date in DD-MM-YYYY Format:  02-01-2026\n"
     ]
    }
   ],
   "source": [
    "#Write a Python program to convert a date of yyyy-mm-dd format to dd-mm-yyyy format.\n",
    "    \n",
    "import re\n",
    "def change_date_format(dt):\n",
    "        return re.sub(r'(\\d{4})-(\\d{1,2})-(\\d{1,2})', '\\\\3-\\\\2-\\\\1', dt)\n",
    "dt1 = \"2026-01-02\"\n",
    "print(\"Original date in YYY-MM-DD Format: \",dt1)\n",
    "print(\"New date in DD-MM-YYYY Format: \",change_date_format(dt1))"
   ]
  },
  {
   "cell_type": "code",
   "execution_count": 150,
   "id": "d2e54600-c61f-4343-a45d-2931537f9f00",
   "metadata": {},
   "outputs": [
    {
     "name": "stdout",
     "output_type": "stream",
     "text": [
      "['01.12', '0132.12', '2.31', '145.8', '3.01', '27.25', '0.25']\n"
     ]
    }
   ],
   "source": [
    "#Create a function in python to find all decimal numbers with a precision of 1 or 2 in a string. The use of the re.compile() method is mandatory.\n",
    "#Sample Text: \"01.12 0132.123 2.31875 145.8 3.01 27.25 0.25\"\n",
    "#Expected Output: ['01.12', '145.8', '3.01', '27.25', '0.25']\n",
    "\n",
    "import re\n",
    "\n",
    "def find_decimal_numbers(string):\n",
    "  pattern = re.compile(r'\\d+\\.\\d{1,2}')\n",
    "  decimal_numbers = re.findall(pattern, string)\n",
    "  return decimal_numbers\n",
    "\n",
    "sample_text = \"01.12 0132.123 2.31875 145.8 3.01 27.25 0.25\"\n",
    "output = find_decimal_numbers(sample_text)\n",
    "print(output)"
   ]
  },
  {
   "cell_type": "code",
   "execution_count": 152,
   "id": "5b167871-2355-4be7-96fd-3ce9f313de8f",
   "metadata": {},
   "outputs": [
    {
     "name": "stdout",
     "output_type": "stream",
     "text": [
      "50\n",
      "Index position: 62\n"
     ]
    }
   ],
   "source": [
    "#Write a Python program to separate and print the numbers and their position of a given string.\n",
    "\n",
    "import re\n",
    "# Input.\n",
    "text = \"The following example creates an ArrayList with a capacity of 50 elements. Four elements are then added to the ArrayList and the ArrayList is trimmed accordingly.\"\n",
    "\n",
    "for m in re.finditer(\"\\d+\", text):\n",
    "    print(m.group(0))\n",
    "    print(\"Index position:\", m.start())"
   ]
  },
  {
   "cell_type": "code",
   "execution_count": 156,
   "id": "d1899742-fe4d-457a-a17f-9091d888425f",
   "metadata": {},
   "outputs": [
    {
     "name": "stdout",
     "output_type": "stream",
     "text": [
      "950\n"
     ]
    }
   ],
   "source": [
    "#Write a regular expression in python program to extract maximum/largest numeric value from a string.\n",
    "#Sample Text:  'My marks in each semester are: 947, 896, 926, 524, 734, 950, 642'\n",
    "#Expected Output: 950\n",
    "\n",
    "import re\n",
    "\n",
    "# Extract all numeric values from the string.\n",
    "occ = re.findall(\"\\d+\", \"My marks in each semester are: 947, 896, 926, 524, 734, 950, 642\")\n",
    "\n",
    "# Convert the numeric values from string to int.\n",
    "num_list = map(int, occ)\n",
    "\n",
    "# Find and print the max\n",
    "print(max(num_list))"
   ]
  },
  {
   "cell_type": "code",
   "execution_count": 158,
   "id": "b744b95c-e897-4560-9dfe-491431df565b",
   "metadata": {},
   "outputs": [
    {
     "name": "stdout",
     "output_type": "stream",
     "text": [
      "Regular Expression Is An Important Topic In Python\n"
     ]
    }
   ],
   "source": [
    "#Create a function in python to insert spaces between words starting with capital letters.\n",
    "#Sample Text: “RegularExpressionIsAnImportantTopicInPython\"\n",
    "#Expected Output: Regular Expression Is An Important Topic In Python\n",
    "\n",
    "import re\n",
    "\n",
    "def insert_spaces(text):\n",
    "  # Use regular expression to find words starting with capital letters\n",
    "  pattern = r'([A-Z][a-z]+)'\n",
    "  # Replace the found words with the same word followed by a space\n",
    "  result = re.sub(pattern, r' \\1', text)\n",
    "  # Remove any leading or trailing spaces\n",
    "  result = result.strip()\n",
    "  return result\n",
    "\n",
    "sample_text = \"RegularExpressionIsAnImportantTopicInPython\"\n",
    "output = insert_spaces(sample_text)\n",
    "print(output)"
   ]
  },
  {
   "cell_type": "code",
   "execution_count": 160,
   "id": "7c35b003-69dd-4545-a88f-6100fded597e",
   "metadata": {},
   "outputs": [
    {
     "name": "stdout",
     "output_type": "stream",
     "text": [
      "Found a match!\n",
      "Found a match!\n",
      "Not matched!\n",
      "Not matched!\n",
      "Not matched!\n",
      "Found a match!\n"
     ]
    }
   ],
   "source": [
    "#Python regex to find sequences of one upper case letter followed by lower case letters \n",
    "\n",
    "import re\n",
    "def text_match(text):\n",
    "        patterns = '[A-Z]+[a-z]+$'\n",
    "        if re.search(patterns, text):\n",
    "                return 'Found a match!'\n",
    "        else:\n",
    "                return('Not matched!')\n",
    "print(text_match(\"AaBbGg\"))\n",
    "print(text_match(\"Python\"))\n",
    "print(text_match(\"python\"))\n",
    "print(text_match(\"PYTHON\"))\n",
    "print(text_match(\"aA\"))\n",
    "print(text_match(\"Aa\"))"
   ]
  },
  {
   "cell_type": "code",
   "execution_count": 162,
   "id": "03bca488-243a-47bc-9d80-109b1b4b0f16",
   "metadata": {},
   "outputs": [
    {
     "name": "stdout",
     "output_type": "stream",
     "text": [
      "Hello hello world\n"
     ]
    }
   ],
   "source": [
    "#Write a Python program to remove continuous duplicate words from Sentence using Regular Expression.\n",
    "#Sample Text: \"Hello hello world world\"\n",
    "#Expected Output: Hello hello world\n",
    "\n",
    "import re\n",
    "\n",
    "def remove_duplicates(sentence):\n",
    "  pattern = r'\\b(\\w+)(\\s+\\1\\b)+'\n",
    "  return re.sub(pattern, r'\\1', sentence)\n",
    "\n",
    "# Example usage\n",
    "sentence = \"Hello hello world world\"\n",
    "result = remove_duplicates(sentence)\n",
    "print(result)"
   ]
  },
  {
   "cell_type": "code",
   "execution_count": 164,
   "id": "7512bf50-3247-485f-b130-367d3c32a885",
   "metadata": {},
   "outputs": [
    {
     "name": "stdout",
     "output_type": "stream",
     "text": [
      "PythonExercises12\n"
     ]
    }
   ],
   "source": [
    "#Write a python program using RegEx to accept string ending with alphanumeric character.\n",
    "\n",
    "import re\n",
    "text1 = '**//Python Exercises// - 12. '\n",
    "pattern = re.compile('[\\W_]+')\n",
    "print(pattern.sub('', text1))"
   ]
  },
  {
   "cell_type": "code",
   "execution_count": 166,
   "id": "34e68ba5-9d20-41d6-a241-846afaf22724",
   "metadata": {},
   "outputs": [
    {
     "name": "stdout",
     "output_type": "stream",
     "text": [
      "The string is :\n",
      "Python@\n",
      "The string doesnot end with alphanumeric character\n",
      "\n",
      "The string is :\n",
      "Python1245\n",
      "The string ends with alphanumeric character\n"
     ]
    }
   ],
   "source": [
    "#Write a python program using RegEx to accept string ending with alphanumeric character.\n",
    "\n",
    "import re\n",
    "\n",
    "regex_expression = '[a-zA-z0-9]$'\n",
    "\n",
    "def check_string(my_string):\n",
    "\n",
    "   if(re.search(regex_expression, my_string)):\n",
    "      print(\"The string ends with alphanumeric character\")\n",
    "\n",
    "   else:\n",
    "      print(\"The string doesnot end with alphanumeric character\")\n",
    "\n",
    "\n",
    "my_string_1 = \"Python@\"\n",
    "print(\"The string is :\")\n",
    "print(my_string_1)\n",
    "check_string(my_string_1)\n",
    "\n",
    "my_string_2 = \"Python1245\"\n",
    "print(\"\\nThe string is :\")\n",
    "print(my_string_2)\n",
    "check_string(my_string_2)"
   ]
  },
  {
   "cell_type": "code",
   "execution_count": 168,
   "id": "2d1d4821-ee1a-4c22-bdb8-75163b9579cc",
   "metadata": {},
   "outputs": [
    {
     "name": "stdout",
     "output_type": "stream",
     "text": [
      "['#Doltiwal', '#xyzabc', '#Demonetization']\n"
     ]
    }
   ],
   "source": [
    "#Write a python program using RegEx to extract the hashtags.\n",
    "#Sample Text:  \"\"\"RT @kapil_kausik: #Doltiwal I mean #xyzabc is \"hurt\" by #Demonetization as the same has rendered USELESS <ed><U+00A0><U+00BD><ed><U+00B1><U+0089> \"acquired funds\" No wo\"\"\"\n",
    "#Expected Output: ['#Doltiwal', '#xyzabc', '#Demonetization']\n",
    "\n",
    "\n",
    "import re\n",
    "\n",
    "def extract_hashtags(text):\n",
    "  hashtags = re.findall(r'#\\w+', text)\n",
    "  return hashtags\n",
    "\n",
    "# Sample text\n",
    "text = 'RT @kapil_kausik: #Doltiwal I mean #xyzabc is \"hurt\" by #Demonetization as the same has rendered USELESS <ed><U+00A0><U+00BD><ed><U+00B1><U+0089> \"acquired funds\" No wo'\n",
    "\n",
    "# Extract hashtags\n",
    "hashtags = extract_hashtags(text)\n",
    "\n",
    "# Print the extracted hashtags\n",
    "print(hashtags)"
   ]
  },
  {
   "cell_type": "code",
   "execution_count": 170,
   "id": "41816b3f-7ca4-4de4-93bb-a9c99915157c",
   "metadata": {},
   "outputs": [
    {
     "name": "stdout",
     "output_type": "stream",
     "text": [
      "@Jags123456 Bharat band on 28??<ed><ed>Those who are protesting #demonetization are all different party leaders\n"
     ]
    }
   ],
   "source": [
    "#Write a python program using RegEx to remove <U+..> like symbols\n",
    "#Check the below sample text, there are strange symbols something of the sort <U+..> all over the place. You need to come up with a general Regex expression that will cover all such symbols.\n",
    "#Sample Text: \"@Jags123456 Bharat band on 28??<ed><U+00A0><U+00BD><ed><U+00B8><U+0082>Those who  are protesting #demonetization  are all different party leaders\"\n",
    "#Expected Output: @Jags123456 Bharat band on 28??<ed><ed>Those who  are protesting #demonetization  are all different party leaders\n",
    "\n",
    "\n",
    "import re\n",
    "\n",
    "input_text = \"@Jags123456 Bharat band on 28??<ed><U+00A0><U+00BD><ed><U+00B8><U+0082>Those who are protesting #demonetization are all different party leaders\"\n",
    "\n",
    "pattern = r\"<U\\+\\w{4}>\"\n",
    "output_text = re.sub(pattern, \"\", input_text)\n",
    "\n",
    "print(output_text)"
   ]
  },
  {
   "cell_type": "code",
   "execution_count": 184,
   "id": "508b70ec-4ffa-40f8-9ffd-3fd4ee7764ef",
   "metadata": {},
   "outputs": [
    {
     "name": "stdout",
     "output_type": "stream",
     "text": [
      "False\n"
     ]
    }
   ],
   "source": [
    "#Create a function in python to remove all words from a string of length between 2 and 4.\n",
    "#The use of the re.compile() method is mandatory.\n",
    "#Sample Text: \"The following example creates an ArrayList with a capacity of 50 elements. 4 elements are then added to the ArrayList and the ArrayList is trimmed accordingly.\"\n",
    "#Expected Output:  following example creates ArrayList a capacity elements. 4 elements added ArrayList ArrayList trimmed accordingly.\n",
    "\n",
    "\n",
    "import re\n",
    "\n",
    "def remove_words(string):\n",
    "  pattern = re.compile(r'\\b\\w{2,4}\\b')\n",
    "  modified_string = re.sub(pattern, '', string)\n",
    "  return modified_string\n",
    "\n",
    "sample_text = \"The following example creates an ArrayList with a capacity of 50 elements. 4 elements are then added to the ArrayList and the ArrayList is trimmed accordingly.\"\n",
    "expected_output = \"following example creates ArrayList a capacity elements. 4 elements added ArrayList ArrayList trimmed accordingly.\"\n",
    "\n",
    "result = remove_words(sample_text)\n",
    "print(result == expected_output)"
   ]
  },
  {
   "cell_type": "code",
   "execution_count": null,
   "id": "00b409ef-365a-49d2-b2dd-3a818388d483",
   "metadata": {},
   "outputs": [],
   "source": []
  },
  {
   "cell_type": "code",
   "execution_count": null,
   "id": "17e1300f-1ce3-464b-b26d-2f4057cb9fde",
   "metadata": {},
   "outputs": [],
   "source": []
  }
 ],
 "metadata": {
  "kernelspec": {
   "display_name": "Python 3 (ipykernel)",
   "language": "python",
   "name": "python3"
  },
  "language_info": {
   "codemirror_mode": {
    "name": "ipython",
    "version": 3
   },
   "file_extension": ".py",
   "mimetype": "text/x-python",
   "name": "python",
   "nbconvert_exporter": "python",
   "pygments_lexer": "ipython3",
   "version": "3.11.7"
  }
 },
 "nbformat": 4,
 "nbformat_minor": 5
}
