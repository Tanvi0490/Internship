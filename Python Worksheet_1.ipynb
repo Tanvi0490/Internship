{
 "cells": [
  {
   "cell_type": "code",
   "execution_count": 11,
   "id": "a7409694",
   "metadata": {},
   "outputs": [
    {
     "name": "stdout",
     "output_type": "stream",
     "text": [
      "Enter a number: 5\n",
      "The factorial of 5 is 120\n"
     ]
    }
   ],
   "source": [
    "num = int(input('Enter a number: '))\n",
    "factorial = 1\n",
    "if num < 0:\n",
    "    print(\"Sorry number is not a factorial\")\n",
    "elif num == 0:\n",
    "    print(\"The factorial number of 0 is 1\")\n",
    "else:\n",
    "    for i in range(1, n+1):\n",
    "        factorial = factorial * i\n",
    "    print(\"The factorial of\", num, \"is\", factorial)"
   ]
  },
  {
   "cell_type": "code",
   "execution_count": 22,
   "id": "fe47021a",
   "metadata": {},
   "outputs": [
    {
     "name": "stdout",
     "output_type": "stream",
     "text": [
      "Enter the number: 8\n",
      "8  is a Composite Number\n"
     ]
    }
   ],
   "source": [
    "number = int(input(\"Enter the number: \"))\n",
    "if number > 1:\n",
    "    for i in range(2, int(number/2)+1):\n",
    "        if (number % i == 0):\n",
    "            print(number, \" is a Composite Number\")\n",
    "            break\n",
    "        else:\n",
    "            print(number, \"is a Prime Number\")"
   ]
  },
  {
   "cell_type": "code",
   "execution_count": 33,
   "id": "36f5574b",
   "metadata": {},
   "outputs": [
    {
     "name": "stdout",
     "output_type": "stream",
     "text": [
      "Enter the String: level\n",
      "The string is a Plaindrome\n"
     ]
    }
   ],
   "source": [
    "def isPalindrome(string):\n",
    "    if(string == string[::-1]):\n",
    "        return \"The string is a Plaindrome\"\n",
    "    else:\n",
    "        return \"The string is not a Plaindrome\"\n",
    "\n",
    "# Enter teh String\n",
    "string = input(\"Enter the String: \")\n",
    "\n",
    "print(isPalindrome(string))"
   ]
  },
  {
   "cell_type": "code",
   "execution_count": 37,
   "id": "eddb05b2",
   "metadata": {},
   "outputs": [
    {
     "name": "stdout",
     "output_type": "stream",
     "text": [
      " Input lenghts of shorter triangle sides: \n",
      "a: 3\n",
      "b: 4\n",
      "The length of the larger side is:  5.0\n"
     ]
    }
   ],
   "source": [
    "from math import sqrt\n",
    "print (\" Input lenghts of shorter triangle sides: \")\n",
    "a = float(input (\"a: \"))\n",
    "b = float(input (\"b: \"))\n",
    "c = sqrt(a**2 + b**2)\n",
    "print(\"The length of the larger side is: \", c)"
   ]
  },
  {
   "cell_type": "code",
   "execution_count": 39,
   "id": "369057ac",
   "metadata": {},
   "outputs": [
    {
     "name": "stdout",
     "output_type": "stream",
     "text": [
      "Enter the String: Data Trained\n",
      "{'D': 1, 'a': 3, 't': 1, ' ': 1, 'T': 1, 'r': 1, 'i': 1, 'n': 1, 'e': 1, 'd': 1}\n"
     ]
    }
   ],
   "source": [
    "str1 = input (\"Enter the String: \")\n",
    "d = dict()\n",
    "for c in str1:\n",
    "    if c in d:\n",
    "        d[c] = d[c] + 1\n",
    "    else:\n",
    "        d[c] = 1\n",
    "print(d)"
   ]
  },
  {
   "cell_type": "code",
   "execution_count": null,
   "id": "9e95ea92",
   "metadata": {},
   "outputs": [],
   "source": []
  }
 ],
 "metadata": {
  "kernelspec": {
   "display_name": "Python 3 (ipykernel)",
   "language": "python",
   "name": "python3"
  },
  "language_info": {
   "codemirror_mode": {
    "name": "ipython",
    "version": 3
   },
   "file_extension": ".py",
   "mimetype": "text/x-python",
   "name": "python",
   "nbconvert_exporter": "python",
   "pygments_lexer": "ipython3",
   "version": "3.9.13"
  }
 },
 "nbformat": 4,
 "nbformat_minor": 5
}
